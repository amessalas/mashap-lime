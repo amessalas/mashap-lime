{
 "cells": [
  {
   "cell_type": "code",
   "execution_count": 1,
   "metadata": {},
   "outputs": [],
   "source": [
    "import joblib\n",
    "import numpy as np\n",
    "from prepare_data import fetch_data\n",
    "from sklearn.model_selection import train_test_split\n",
    "from interpret.blackbox import LimeTabular\n",
    "from interpret import show"
   ]
  },
  {
   "cell_type": "code",
   "execution_count": 2,
   "metadata": {},
   "outputs": [],
   "source": [
    "# load dataset and trained (cached) model \n",
    "dataset = 'bank-marketing'\n",
    "x, y = fetch_data(dataset, 1)\n",
    "feature_names = [\"age\", \"job\", \"marital\", \"education\", \"default\", \"balance\", \"housing\", \"loan\", \"contact\", \"day\", \"month\", \"duration\", \"campaign\", \"pdays\", \"previous\", \"poutcome\", \"y\"]\n",
    "x.columns = feature_names[:-1]\n",
    "x_train, x_test, y_train, y_test = train_test_split(x, y, test_size=0.3, random_state=42)\n",
    "model = joblib.load(\"cache/trained_models.dict\")[dataset]['gbc']"
   ]
  },
  {
   "cell_type": "code",
   "execution_count": 3,
   "metadata": {},
   "outputs": [],
   "source": [
    "# get predictions\n",
    "py = model.predict_proba(x)\n",
    "py_0 = np.array([a for a,b in py]).squeeze()\n",
    "py_1 = np.array([b for a,b in py]).squeeze()\n",
    "\n",
    "# find the 5 instances with lowest score\n",
    "idx0 = py_0.argsort()[-5:]\n",
    "py_0[idx0]"
   ]
  },
  {
   "cell_type": "code",
   "execution_count": 5,
   "metadata": {
    "scrolled": false
   },
   "outputs": [
    {
     "name": "stderr",
     "output_type": "stream",
     "text": [
      "C:\\Users\\Andy\\Anaconda3\\lib\\site-packages\\sklearn\\linear_model\\_ridge.py:148: LinAlgWarning: Ill-conditioned matrix (rcond=1.7293e-27): result may not be accurate.\n",
      "  overwrite_a=True).T\n",
      "C:\\Users\\Andy\\Anaconda3\\lib\\site-packages\\sklearn\\linear_model\\_ridge.py:148: LinAlgWarning: Ill-conditioned matrix (rcond=2.06835e-27): result may not be accurate.\n",
      "  overwrite_a=True).T\n",
      "C:\\Users\\Andy\\Anaconda3\\lib\\site-packages\\sklearn\\linear_model\\_ridge.py:148: LinAlgWarning: Ill-conditioned matrix (rcond=1.8964e-27): result may not be accurate.\n",
      "  overwrite_a=True).T\n",
      "C:\\Users\\Andy\\Anaconda3\\lib\\site-packages\\sklearn\\linear_model\\_ridge.py:148: LinAlgWarning: Ill-conditioned matrix (rcond=2.66261e-28): result may not be accurate.\n",
      "  overwrite_a=True).T\n",
      "C:\\Users\\Andy\\Anaconda3\\lib\\site-packages\\sklearn\\linear_model\\_ridge.py:148: LinAlgWarning: Ill-conditioned matrix (rcond=2.00675e-27): result may not be accurate.\n",
      "  overwrite_a=True).T\n"
     ]
    },
    {
     "data": {
      "text/html": [
       "<!-- http://127.0.0.1:7265/2200734119416/ -->\n",
       "<iframe src=\"http://127.0.0.1:7265/2200734119416/\" width=100% height=800 frameBorder=\"0\"></iframe>"
      ]
     },
     "metadata": {},
     "output_type": "display_data"
    }
   ],
   "source": [
    "# Build LIME explainer, explain selected instances and show result\n",
    "lime = LimeTabular(predict_fn=model.predict_proba, data=x_train, random_state=1)\n",
    "lime_local = lime.explain_local(x.loc[idx0], y[idx0], name='LIME')\n",
    "show(lime_local)"
   ]
  },
  {
   "cell_type": "code",
   "execution_count": null,
   "metadata": {},
   "outputs": [],
   "source": []
  }
 ],
 "metadata": {
  "kernelspec": {
   "display_name": "Python 3",
   "language": "python",
   "name": "python3"
  },
  "language_info": {
   "codemirror_mode": {
    "name": "ipython",
    "version": 3
   },
   "file_extension": ".py",
   "mimetype": "text/x-python",
   "name": "python",
   "nbconvert_exporter": "python",
   "pygments_lexer": "ipython3",
   "version": "3.7.3"
  }
 },
 "nbformat": 4,
 "nbformat_minor": 4
}
